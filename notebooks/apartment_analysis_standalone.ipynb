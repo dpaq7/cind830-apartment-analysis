{
 "cells": [
  {
   "cell_type": "markdown",
   "metadata": {},
   "source": [
    "# CIND830 Assignment 2: Apartment Rental Data Analysis\n",
    "## Alternative Notebook - Standalone Version\n",
    "\n",
    "This notebook demonstrates the complete analysis of the Apartment for Rent Classified dataset.\n",
    "This version uses absolute imports and should work in any environment.\n",
    "\n",
    "## Setup and Imports"
   ]
  },
  {
   "cell_type": "code",
   "execution_count": null,
   "metadata": {},
   "outputs": [],
   "source": [
    "import os\n",
    "import sys\n",
    "from pathlib import Path\n",
    "\n",
    "# Add the src directory to Python path\n",
    "project_root = Path.cwd().parent\n",
    "src_path = project_root / 'src'\n",
    "sys.path.insert(0, str(src_path))\n",
    "\n",
    "print(f\"Project root: {project_root}\")\n",
    "print(f\"Source path: {src_path}\")\n",
    "print(f\"Source path exists: {src_path.exists()}\")"
   ]
  },
  {
   "cell_type": "code",
   "execution_count": null,
   "metadata": {},
   "outputs": [],
   "source": [
    "import pandas as pd\n",
    "import numpy as np\n",
    "import matplotlib.pyplot as plt\n",
    "import seaborn as sns\n",
    "from typing import List\n",
    "\n",
    "# Import our custom modules using absolute imports\n",
    "from models.apartment import Apartment\n",
    "from data.dataset_manager import DatasetManager\n",
    "from data.price_analysis import PriceAnalysis\n",
    "from data.location_analysis import LocationAnalysis\n",
    "from algorithms.search import SearchAlgorithms\n",
    "from algorithms.sorting import SortingAlgorithms\n",
    "from visualization.plots import ApartmentVisualizer\n",
    "\n",
    "# Configure plotting\n",
    "plt.style.use('default')\n",
    "plt.rcParams['figure.figsize'] = (12, 6)\n",
    "sns.set_palette(\"husl\")\n",
    "\n",
    "print(\"✅ All modules imported successfully!\")"
   ]
  },
  {
   "cell_type": "markdown",
   "metadata": {},
   "source": [
    "## 1. Data Structures: Loading and Cleaning Data\n",
    "\n",
    "### Check for Dataset"
   ]
  },
  {
   "cell_type": "code",
   "execution_count": null,
   "metadata": {},
   "outputs": [],
   "source": [
    "# Check if dataset exists, if not provide download instructions\n",
    "data_path = project_root / 'apartments_for_rent_classified_100K.csv'\n",
    "print(f\"Looking for dataset at: {data_path}\")\n",
    "\n",
    "if not data_path.exists():\n",
    "    print(\"❌ Dataset not found!\")\n",
    "    print(\"📥 Please run the download script first:\")\n",
    "    print(\"   python scripts/download_data.py\")\n",
    "    print(\"\")\n",
    "    print(\"Or download manually from UCI ML Repository:\")\n",
    "    print(\"https://doi.org/10.24432/C5X623\")\n",
    "else:\n",
    "    print(\"✅ Dataset found!\")\n",
    "    file_size = data_path.stat().st_size / (1024*1024)\n",
    "    print(f\"📊 File size: {file_size:.1f} MB\")"
   ]
  },
  {
   "cell_type": "markdown",
   "metadata": {},
   "source": [
    "### Load the Dataset"
   ]
  },
  {
   "cell_type": "code",
   "execution_count": null,
   "metadata": {},
   "outputs": [],
   "source": [
    "# Initialize DatasetManager and load data\n",
    "dataset_manager = DatasetManager(str(data_path))\n",
    "\n",
    "# Load raw data\n",
    "raw_data = dataset_manager.load_data()\n",
    "print(f\"Raw data shape: {raw_data.shape}\")\n",
    "print(f\"\\nFirst 5 rows:\")\n",
    "raw_data.head()"
   ]
  },
  {
   "cell_type": "markdown",
   "metadata": {},
   "source": [
    "### Rest of the analysis follows the same pattern...\n",
    "\n",
    "*Continue with the same cells as the original notebook...*"
   ]
  }
 ],
 "metadata": {
  "kernelspec": {
   "display_name": "Python 3",
   "language": "python",
   "name": "python3"
  },
  "language_info": {
   "codemirror_mode": {
    "name": "ipython",
    "version": 3
   },
   "file_extension": ".py",
   "mimetype": "text/x-python",
   "name": "python",
   "nbconvert_exporter": "python",
   "pygments_lexer": "ipython3",
   "version": "3.8.5"
  }
 },
 "nbformat": 4,
 "nbformat_minor": 4
}