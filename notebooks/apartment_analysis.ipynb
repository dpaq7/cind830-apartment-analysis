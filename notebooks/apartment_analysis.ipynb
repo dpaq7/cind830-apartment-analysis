{
 "cells": [
  {
   "cell_type": "markdown",
   "metadata": {},
   "source": [
    "# CIND830 Assignment 2: Apartment Rental Data Analysis\n",
    "## Complete Working Version\n",
    "\n",
    "This notebook demonstrates the complete analysis with encoding fixes and proper imports.\n",
    "\n",
    "## Setup and Imports"
   ]
  },
  {
   "cell_type": "code",
   "execution_count": null,
   "metadata": {},
   "outputs": [],
   "source": [
    "import os\n",
    "import sys\n",
    "from pathlib import Path\n",
    "\n",
    "# Add the src directory to Python path\n",
    "project_root = Path.cwd().parent\n",
    "src_path = project_root / 'src'\n",
    "sys.path.insert(0, str(src_path))\n",
    "\n",
    "print(f\"Project root: {project_root}\")\n",
    "print(f\"Source path: {src_path}\")\n",
    "print(f\"Source path exists: {src_path.exists()}\")"
   ]
  },
  {
   "cell_type": "code",
   "execution_count": null,
   "metadata": {},
   "outputs": [],
   "source": [
    "import pandas as pd\n",
    "import numpy as np\n",
    "import matplotlib.pyplot as plt\n",
    "import seaborn as sns\n",
    "from typing import List\n",
    "\n",
    "# Import our custom modules\n",
    "from models.apartment import Apartment\n",
    "from data.dataset_manager import DatasetManager\n",
    "from data.price_analysis import PriceAnalysis\n",
    "from data.location_analysis import LocationAnalysis\n",
    "from algorithms.search import SearchAlgorithms\n",
    "from algorithms.sorting import SortingAlgorithms\n",
    "from visualization.plots import ApartmentVisualizer\n",
    "\n",
    "# Configure plotting\n",
    "plt.style.use('default')\n",
    "plt.rcParams['figure.figsize'] = (12, 6)\n",
    "sns.set_palette(\"husl\")\n",
    "\n",
    "print(\"✅ All modules imported successfully!\")"
   ]
  },
  {
   "cell_type": "markdown",
   "metadata": {},
   "source": [
    "## 1. Data Structures: Loading and Cleaning Data\n",
    "\n",
    "### Check for Dataset"
   ]
  },
  {
   "cell_type": "code",
   "execution_count": null,
   "metadata": {},
   "outputs": [],
   "source": [
    "# Check if dataset exists\n",
    "data_path = project_root / 'apartments_for_rent_classified_100K.csv'\n",
    "print(f\"Looking for dataset at: {data_path}\")\n",
    "\n",
    "if not data_path.exists():\n",
    "    print(\"❌ Dataset not found!\")\n",
    "    print(\"📥 Please run the download script first:\")\n",
    "    print(\"   python scripts/download_data.py\")\n",
    "    print(\"\")\n",
    "    print(\"Or download manually from UCI ML Repository:\")\n",
    "    print(\"https://doi.org/10.24432/C5X623\")\n",
    "    raise FileNotFoundError(\"Dataset file not found. Please download it first.\")\n",
    "else:\n",
    "    print(\"✅ Dataset found!\")\n",
    "    file_size = data_path.stat().st_size / (1024*1024)\n",
    "    print(f\"📊 File size: {file_size:.1f} MB\")"
   ]
  },
  {
   "cell_type": "markdown",
   "metadata": {},
   "source": [
    "### Load the Dataset"
   ]
  },
  {
   "cell_type": "code",
   "execution_count": null,
   "metadata": {},
   "outputs": [],
   "source": [
    "# Initialize DatasetManager and load data with encoding handling\n",
    "dataset_manager = DatasetManager(str(data_path))\n",
    "\n",
    "# Load raw data (now handles encoding issues automatically)\n",
    "raw_data = dataset_manager.load_data()\n",
    "print(f\"\\nRaw data shape: {raw_data.shape}\")\n",
    "print(f\"\\nFirst 5 rows:\")\n",
    "print(raw_data.head())"
   ]
  },
  {
   "cell_type": "markdown",
   "metadata": {},
   "source": [
    "### Inspect Dataset Structure"
   ]
  },
  {
   "cell_type": "code",
   "execution_count": null,
   "metadata": {},
   "outputs": [],
   "source": [
    "# Get comprehensive data information\n",
    "dataset_manager.get_data_info()\n",
    "\n",
    "# Display sample data\n",
    "print(\"\\nSample data (first 3 rows, key columns):\")\n",
    "key_columns = ['price', 'bedrooms', 'bathrooms', 'square_feet', 'cityname', 'state']\n",
    "available_columns = [col for col in key_columns if col in raw_data.columns]\n",
    "print(raw_data[available_columns].head(3))"
   ]
  },
  {
   "cell_type": "markdown",
   "metadata": {},
   "source": [
    "### Clean the Data"
   ]
  },
  {
   "cell_type": "code",
   "execution_count": null,
   "metadata": {},
   "outputs": [],
   "source": [
    "# Clean the data\n",
    "cleaned_data = dataset_manager.clean_data()\n",
    "\n",
    "print(\"\\nData cleaning completed!\")\n",
    "print(f\"Cleaned data shape: {cleaned_data.shape}\")\n",
    "\n",
    "# Show data types after cleaning\n",
    "print(\"\\nData types after cleaning:\")\n",
    "print(cleaned_data.dtypes)"
   ]
  },
  {
   "cell_type": "markdown",
   "metadata": {},
   "source": [
    "### Create Apartment Objects"
   ]
  },
  {
   "cell_type": "code",
   "execution_count": null,
   "metadata": {},
   "outputs": [],
   "source": [
    "# Create apartment objects from cleaned data\n",
    "apartments = dataset_manager.create_apartments()\n",
    "\n",
    "print(f\"Created {len(apartments)} apartment objects\")\n",
    "print(\"\\nExample apartment:\")\n",
    "print(apartments[0].get_summary())"
   ]
  },
  {
   "cell_type": "markdown",
   "metadata": {},
   "source": [
    "### Descriptive Statistics"
   ]
  },
  {
   "cell_type": "code",
   "execution_count": null,
   "metadata": {},
   "outputs": [],
   "source": [
    "# Calculate descriptive statistics\n",
    "stats = dataset_manager.get_descriptive_statistics()\n",
    "\n",
    "print(\"Descriptive Statistics:\")\n",
    "for feature, stat_dict in stats.items():\n",
    "    print(f\"\\n{feature.upper()}:\")\n",
    "    for stat_name, value in stat_dict.items():\n",
    "        if value is not None:\n",
    "            print(f\"  {stat_name}: {value:,.2f}\")\n",
    "        else:\n",
    "            print(f\"  {stat_name}: None\")"
   ]
  },
  {
   "cell_type": "markdown",
   "metadata": {},
   "source": [
    "## 2. Algorithms: Search and Sort\n",
    "\n",
    "### Search Algorithms Demo"
   ]
  },
  {
   "cell_type": "code",
   "execution_count": null,
   "metadata": {},
   "outputs": [],
   "source": [
    "# Search for apartments with specific price using linear search\n",
    "target_price = 1500.0\n",
    "print(f\"Searching for apartments with price ${target_price:,.0f}...\")\n",
    "\n",
    "# Linear search\n",
    "apartments_with_target_price = SearchAlgorithms.search_by_price(apartments, target_price)\n",
    "print(f\"Found {len(apartments_with_target_price)} apartments with price ${target_price:,.0f}\")\n",
    "\n",
    "# Search by city\n",
    "target_city = \"Denver\"\n",
    "denver_apartments = SearchAlgorithms.search_by_city(apartments, target_city)\n",
    "print(f\"Found {len(denver_apartments)} apartments in {target_city}\")\n",
    "\n",
    "if denver_apartments:\n",
    "    print(\"\\nFirst Denver apartment:\")\n",
    "    print(denver_apartments[0].get_summary())\n",
    "elif len(apartments) > 0:\n",
    "    # Try a city that actually exists in the data\n",
    "    sample_cities = [apt.cityname for apt in apartments[:100] if apt.cityname]\n",
    "    if sample_cities:\n",
    "        test_city = sample_cities[0]\n",
    "        test_apartments = SearchAlgorithms.search_by_city(apartments, test_city)\n",
    "        print(f\"\\nFound {len(test_apartments)} apartments in {test_city} (sample city)\")"
   ]
  },
  {
   "cell_type": "markdown",
   "metadata": {},
   "source": [
    "### Binary Search vs Linear Search Performance"
   ]
  },
  {
   "cell_type": "code",
   "execution_count": null,
   "metadata": {},
   "outputs": [],
   "source": [
    "# Compare search performance\n",
    "search_results = SearchAlgorithms.time_search_comparison(apartments, target_price)\n",
    "\n",
    "print(\"Search Performance Comparison:\")\n",
    "print(f\"\\nLinear Search:\")\n",
    "print(f\"  Time: {search_results['linear_search']['time']:.6f} seconds\")\n",
    "print(f\"  Results found: {search_results['linear_search']['results_count']}\")\n",
    "\n",
    "print(f\"\\nBinary Search:\")\n",
    "print(f\"  Sort time: {search_results['binary_search']['sort_time']:.6f} seconds\")\n",
    "print(f\"  Search time: {search_results['binary_search']['search_time']:.6f} seconds\")\n",
    "print(f\"  Total time: {search_results['binary_search']['total_time']:.6f} seconds\")\n",
    "print(f\"  Result found: {search_results['binary_search']['result'] is not None}\")"
   ]
  },
  {
   "cell_type": "markdown",
   "metadata": {},
   "source": [
    "### Custom Sorting Algorithms"
   ]
  },
  {
   "cell_type": "code",
   "execution_count": null,
   "metadata": {},
   "outputs": [],
   "source": [
    "# Test custom sorting algorithms on a sample\n",
    "sample_apartments = apartments[:100]  # Use smaller sample for demonstration\n",
    "\n",
    "print(\"Testing sorting algorithms on sample of 100 apartments...\")\n",
    "\n",
    "# Sort by price using bubble sort\n",
    "bubble_sorted = SortingAlgorithms.sort_by_price(sample_apartments, \"bubble\")\n",
    "valid_prices = [apt for apt in bubble_sorted if apt.price is not None]\n",
    "if valid_prices:\n",
    "    print(f\"\\nBubble sort completed. Lowest price: ${valid_prices[0].price:,.2f}\")\n",
    "    print(f\"Highest price: ${valid_prices[-1].price:,.2f}\")\n",
    "\n",
    "# Sort by square feet using insertion sort\n",
    "insertion_sorted = SortingAlgorithms.sort_by_square_feet(sample_apartments, \"insertion\")\n",
    "valid_sqft = [apt for apt in insertion_sorted if apt.square_feet is not None]\n",
    "if valid_sqft:\n",
    "    print(f\"\\nInsertion sort by square feet completed.\")\n",
    "    print(f\"Smallest: {valid_sqft[0].square_feet} sq ft\")\n",
    "    print(f\"Largest: {valid_sqft[-1].square_feet} sq ft\")"
   ]
  },
  {
   "cell_type": "markdown",
   "metadata": {},
   "source": [
    "### Sorting Performance Comparison"
   ]
  },
  {
   "cell_type": "code",
   "execution_count": null,
   "metadata": {},
   "outputs": [],
   "source": [
    "# Compare sorting performance\n",
    "performance_results = SortingAlgorithms.compare_sorting_performance(\n",
    "    apartments, \n",
    "    lambda apt: apt.price if apt.price is not None else float('inf'),\n",
    "    sample_size=500\n",
    ")\n",
    "\n",
    "print(\"Sorting Performance Comparison (500 apartments):\")\n",
    "print(f\"\\nBubble Sort:\")\n",
    "print(f\"  Total time: {performance_results['bubble_sort']['time']:.6f} seconds\")\n",
    "print(f\"  Time per item: {performance_results['bubble_sort']['time_per_item']:.8f} seconds\")\n",
    "\n",
    "print(f\"\\nInsertion Sort:\")\n",
    "print(f\"  Total time: {performance_results['insertion_sort']['time']:.6f} seconds\")\n",
    "print(f\"  Time per item: {performance_results['insertion_sort']['time_per_item']:.8f} seconds\")\n",
    "\n",
    "print(f\"\\nBuilt-in Sort:\")\n",
    "print(f\"  Total time: {performance_results['builtin_sort']['time']:.6f} seconds\")\n",
    "print(f\"  Time per item: {performance_results['builtin_sort']['time_per_item']:.8f} seconds\")\n",
    "\n",
    "print(f\"\\nRelative Performance (vs fastest):\")\n",
    "for alg, ratio in performance_results['relative_performance'].items():\n",
    "    print(f\"  {alg}: {ratio:.1f}x\")"
   ]
  },
  {
   "cell_type": "markdown",
   "metadata": {},
   "source": [
    "## 3. Object-Oriented Programming: Inheritance and Polymorphism\n",
    "\n",
    "### Price Analysis (Inheritance Demo)"
   ]
  },
  {
   "cell_type": "code",
   "execution_count": null,
   "metadata": {},
   "outputs": [],
   "source": [
    "# Create PriceAnalysis instance (inherits from DatasetManager)\n",
    "price_analyzer = PriceAnalysis(str(data_path))\n",
    "price_analyzer.load_data()\n",
    "price_analyzer.clean_data()\n",
    "price_analyzer.create_apartments()\n",
    "\n",
    "# Demonstrate polymorphism - overridden get_summary method\n",
    "print(\"PriceAnalysis Summary (Polymorphism Demo):\")\n",
    "print(price_analyzer.get_summary())"
   ]
  },
  {
   "cell_type": "code",
   "execution_count": null,
   "metadata": {},
   "outputs": [],
   "source": [
    "# Use specialized price analysis methods\n",
    "price_stats = price_analyzer.compute_price_statistics()\n",
    "print(\"\\nDetailed Price Statistics:\")\n",
    "for stat, value in price_stats.items():\n",
    "    print(f\"{stat}: ${value:,.2f}\")\n",
    "\n",
    "# Get price percentiles\n",
    "percentiles = price_analyzer.get_price_percentiles([10, 25, 50, 75, 90, 95, 99])\n",
    "print(\"\\nPrice Percentiles:\")\n",
    "for p, value in percentiles.items():\n",
    "    print(f\"{p}th percentile: ${value:,.2f}\")"
   ]
  },
  {
   "cell_type": "code",
   "execution_count": null,
   "metadata": {},
   "outputs": [],
   "source": [
    "# Analyze price by number of bedrooms\n",
    "bedroom_stats = price_analyzer.get_price_by_bedrooms()\n",
    "print(\"\\nPrice Analysis by Number of Bedrooms:\")\n",
    "for bedrooms, stats in sorted(bedroom_stats.items()):\n",
    "    print(f\"\\n{bedrooms} Bedroom(s):\")\n",
    "    print(f\"  Count: {stats['count']}\")\n",
    "    print(f\"  Mean: ${stats['mean']:,.2f}\")\n",
    "    print(f\"  Median: ${stats['median']:,.2f}\")\n",
    "    print(f\"  Range: ${stats['min']:,.2f} - ${stats['max']:,.2f}\")"
   ]
  },
  {
   "cell_type": "markdown",
   "metadata": {},
   "source": [
    "### Location Analysis (Inheritance Demo)"
   ]
  },
  {
   "cell_type": "code",
   "execution_count": null,
   "metadata": {},
   "outputs": [],
   "source": [
    "# Create LocationAnalysis instance (inherits from DatasetManager)\n",
    "location_analyzer = LocationAnalysis(str(data_path))\n",
    "location_analyzer.load_data()\n",
    "location_analyzer.clean_data()\n",
    "location_analyzer.create_apartments()\n",
    "\n",
    "# Demonstrate polymorphism - overridden get_summary method\n",
    "print(\"LocationAnalysis Summary (Polymorphism Demo):\")\n",
    "print(location_analyzer.get_summary())"
   ]
  },
  {
   "cell_type": "code",
   "execution_count": null,
   "metadata": {},
   "outputs": [],
   "source": [
    "# Get city statistics\n",
    "city_stats = location_analyzer.get_city_statistics()\n",
    "\n",
    "# Show top 10 cities by number of listings\n",
    "sorted_cities = sorted(city_stats.items(), key=lambda x: x[1]['count'], reverse=True)[:10]\n",
    "\n",
    "print(\"Top 10 Cities by Number of Listings:\")\n",
    "for i, (city, stats) in enumerate(sorted_cities, 1):\n",
    "    avg_price = stats['avg_price']\n",
    "    price_str = f\"${avg_price:,.2f}\" if avg_price else \"N/A\"\n",
    "    print(f\"{i:2d}. {city}, {stats['state']}: {stats['count']} listings, Avg Price: {price_str}\")"
   ]
  },
  {
   "cell_type": "code",
   "execution_count": null,
   "metadata": {},
   "outputs": [],
   "source": [
    "# Demonstrate proximity search\n",
    "# Example: Find apartments near NYC (approximate coordinates)\n",
    "nyc_lat, nyc_lon = 40.7128, -74.0060\n",
    "nearby_apartments = location_analyzer.filter_by_proximity(nyc_lat, nyc_lon, 50)  # 50km radius\n",
    "\n",
    "print(f\"Found {len(nearby_apartments)} apartments within 50km of NYC coordinates\")\n",
    "if nearby_apartments:\n",
    "    print(\"\\nSample nearby apartment:\")\n",
    "    print(nearby_apartments[0].get_summary())"
   ]
  },
  {
   "cell_type": "markdown",
   "metadata": {},
   "source": [
    "## 4. Visualization Tasks\n",
    "\n",
    "### Initialize Visualizer"
   ]
  },
  {
   "cell_type": "code",
   "execution_count": null,
   "metadata": {},
   "outputs": [],
   "source": [
    "# Create visualizer instance\n",
    "visualizer = ApartmentVisualizer()\n",
    "print(\"Visualizer initialized successfully!\")"
   ]
  },
  {
   "cell_type": "markdown",
   "metadata": {},
   "source": [
    "### 1. Price Distribution Histogram"
   ]
  },
  {
   "cell_type": "code",
   "execution_count": null,
   "metadata": {},
   "outputs": [],
   "source": [
    "# Create price distribution histogram\n",
    "fig = visualizer.plot_price_histogram(apartments, bins=50)\n",
    "plt.show()\n",
    "\n",
    "# Print some insights\n",
    "prices = [apt.price for apt in apartments if apt.price is not None]\n",
    "print(f\"\\nPrice Distribution Insights:\")\n",
    "print(f\"Total apartments with price data: {len(prices):,}\")\n",
    "print(f\"Mean price: ${np.mean(prices):,.2f}\")\n",
    "print(f\"Median price: ${np.median(prices):,.2f}\")\n",
    "print(f\"Standard deviation: ${np.std(prices):,.2f}\")"
   ]
  },
  {
   "cell_type": "markdown",
   "metadata": {},
   "source": [
    "### 2. Square Feet vs Price Scatter Plot"
   ]
  },
  {
   "cell_type": "code",
   "execution_count": null,
   "metadata": {},
   "outputs": [],
   "source": [
    "# Create scatter plot\n",
    "try:\n",
    "    fig = visualizer.plot_price_vs_sqft_scatter(apartments)\n",
    "    plt.show()\n",
    "    \n",
    "    # Calculate and display correlation\n",
    "    valid_data = [(apt.square_feet, apt.price) for apt in apartments \n",
    "                 if apt.square_feet is not None and apt.price is not None]\n",
    "    if valid_data:\n",
    "        sqft, prices = zip(*valid_data)\n",
    "        correlation = np.corrcoef(sqft, prices)[0, 1]\n",
    "        print(f\"\\nCorrelation between square feet and price: {correlation:.3f}\")\n",
    "        print(f\"Sample size: {len(valid_data):,} apartments\")\nexcept ValueError as e:\n",
    "    print(f\"Could not create scatter plot: {e}\")\n",
    "    print(\"This may indicate insufficient data with both price and square feet information.\")"
   ]
  },
  {
   "cell_type": "markdown",
   "metadata": {},
   "source": [
    "### 3. Average Price by Number of Bedrooms Bar Chart"
   ]
  },
  {
   "cell_type": "code",
   "execution_count": null,
   "metadata": {},
   "outputs": [],
   "source": [
    "# Create bar chart\n",
    "fig = visualizer.plot_price_by_bedrooms_bar(apartments)\n",
    "plt.show()\n",
    "\n",
    "# Display bedroom statistics\n",
    "bedroom_stats = price_analyzer.get_price_by_bedrooms()\n",
    "print(\"\\nBedroom Price Analysis:\")\n",
    "for bedrooms in sorted(bedroom_stats.keys()):\n",
    "    stats = bedroom_stats[bedrooms]\n",
    "    print(f\"{bedrooms} BR: {stats['count']} units, Avg: ${stats['mean']:,.2f}\")"
   ]
  },
  {
   "cell_type": "markdown",
   "metadata": {},
   "source": [
    "### 4. Correlation Matrix Heatmap"
   ]
  },
  {
   "cell_type": "code",
   "execution_count": null,
   "metadata": {},
   "outputs": [],
   "source": [
    "# Create correlation heatmap\n",
    "fig = visualizer.plot_correlation_heatmap(apartments)\n",
    "plt.show()\n",
    "\n",
    "print(\"\\nCorrelation Analysis Insights:\")\n",
    "print(\"- Strong positive correlation indicates variables increase together\")\n",
    "print(\"- Strong negative correlation indicates variables move in opposite directions\")\n",
    "print(\"- Values close to 0 indicate weak linear relationship\")"
   ]
  },
  {
   "cell_type": "markdown",
   "metadata": {},
   "source": [
    "### 5. Comprehensive Dashboard"
   ]
  },
  {
   "cell_type": "code",
   "execution_count": null,
   "metadata": {},
   "outputs": [],
   "source": [
    "# Create comprehensive dashboard\n",
    "fig = visualizer.create_comprehensive_dashboard(apartments)\n",
    "plt.show()\n",
    "\n",
    "print(\"\\nComprehensive dashboard created with all major visualizations!\")"
   ]
  },
  {
   "cell_type": "markdown",
   "metadata": {},
   "source": [
    "## Summary and Conclusions\n",
    "\n",
    "This analysis has successfully demonstrated all required assignment components:\n",
    "\n",
    "### 1. Data Structures\n",
    "- ✅ Loaded and inspected the apartment dataset with encoding handling\n",
    "- ✅ Cleaned data by handling missing values and type conversions\n",
    "- ✅ Computed descriptive statistics for numerical features\n",
    "- ✅ Created structured apartment objects from raw data\n",
    "\n",
    "### 2. Algorithms\n",
    "- ✅ Implemented linear search for finding apartments by price and city\n",
    "- ✅ Implemented binary search with performance comparison\n",
    "- ✅ Created custom bubble sort and insertion sort algorithms\n",
    "- ✅ Compared custom algorithm performance vs built-in sorting\n",
    "\n",
    "### 3. Object-Oriented Programming\n",
    "- ✅ Defined Apartment class with proper encapsulation\n",
    "- ✅ Created DatasetManager class for data operations\n",
    "- ✅ Demonstrated inheritance with PriceAnalysis and LocationAnalysis subclasses\n",
    "- ✅ Showed polymorphism through overridden get_summary() methods\n",
    "\n",
    "### 4. Visualization\n",
    "- ✅ Created histogram showing price distribution with outlier identification\n",
    "- ✅ Generated scatter plot revealing relationships between variables\n",
    "- ✅ Built bar chart comparing average prices by bedroom count\n",
    "- ✅ Produced correlation heatmap for numerical feature relationships\n",
    "- ✅ All plots include proper titles, axis labels, and legends\n",
    "\n",
    "### Technical Improvements Made:\n",
    "1. **Encoding Handling**: Robust CSV loading with multiple encoding attempts\n",
    "2. **Import Flexibility**: Works in various Python environments\n",
    "3. **Error Handling**: Graceful handling of missing data scenarios\n",
    "4. **Performance**: Efficient algorithms with timing comparisons\n",
    "\n",
    "The modular code structure ensures maintainability and extensibility for future analysis."
   ]
  }
 ],
 "metadata": {
  "kernelspec": {
   "display_name": "Python 3",
   "language": "python",
   "name": "python3"
  },
  "language_info": {
   "codemirror_mode": {
    "name": "ipython",
    "version": 3
   },
   "file_extension": ".py",
   "mimetype": "text/x-python",
   "name": "python",
   "nbconvert_exporter": "python",
   "pygments_lexer": "ipython3",
   "version": "3.8.5"
  }
 },
 "nbformat": 4,
 "nbformat_minor": 4
}